{
  "nbformat": 4,
  "nbformat_minor": 0,
  "metadata": {
    "colab": {
      "provenance": [],
      "authorship_tag": "ABX9TyPhKel98/S2lULBaHZLoN8+",
      "include_colab_link": true
    },
    "kernelspec": {
      "name": "python3",
      "display_name": "Python 3"
    },
    "language_info": {
      "name": "python"
    }
  },
  "cells": [
    {
      "cell_type": "markdown",
      "metadata": {
        "id": "view-in-github",
        "colab_type": "text"
      },
      "source": [
        "<a href=\"https://colab.research.google.com/github/Shrutimundr/machine-learning/blob/main/ANN.ipynb\" target=\"_parent\"><img src=\"https://colab.research.google.com/assets/colab-badge.svg\" alt=\"Open In Colab\"/></a>"
      ]
    },
    {
      "cell_type": "markdown",
      "source": [
        "Loading the MNIST dataset in Keras![IMAGE 1.png](data:image/png;base64,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)"
      ],
      "metadata": {
        "id": "XpRw0GSWe3LH"
      }
    },
    {
      "cell_type": "code",
      "source": [
        "from keras.datasets import mnist\n",
        "(train_images, train_labels), (test_images, test_labels) = mnist.load_data()\n"
      ],
      "metadata": {
        "colab": {
          "base_uri": "https://localhost:8080/"
        },
        "id": "2gr2LqTzbnHt",
        "outputId": "8c73a810-6f47-4337-95d6-1fac72607ed8"
      },
      "execution_count": 2,
      "outputs": [
        {
          "output_type": "stream",
          "name": "stdout",
          "text": [
            "Downloading data from https://storage.googleapis.com/tensorflow/tf-keras-datasets/mnist.npz\n",
            "11490434/11490434 [==============================] - 0s 0us/step\n"
          ]
        }
      ]
    },
    {
      "cell_type": "code",
      "source": [
        "train_images.shape\n",
        "len(train_labels)\n",
        "train_labels\n",
        "test_images.shape\n",
        "len(test_labels)\n",
        "test_labels\n"
      ],
      "metadata": {
        "colab": {
          "base_uri": "https://localhost:8080/"
        },
        "id": "C-AmkFf4bvmV",
        "outputId": "8750ae87-c30e-4b03-88ab-acb515eaefae"
      },
      "execution_count": 3,
      "outputs": [
        {
          "output_type": "execute_result",
          "data": {
            "text/plain": [
              "array([7, 2, 1, ..., 4, 5, 6], dtype=uint8)"
            ]
          },
          "metadata": {},
          "execution_count": 3
        }
      ]
    },
    {
      "cell_type": "markdown",
      "source": [
        "The network architecture"
      ],
      "metadata": {
        "id": "DDJurknLb1qt"
      }
    },
    {
      "cell_type": "code",
      "source": [
        "from keras import models\n",
        "from keras import layers\n",
        "network = models.Sequential()\n",
        "# Dense(32) is a fully-connected layer with 32 hidden units.\n",
        "# in the first layer, you must specify the expected input data shape :\n",
        "# here, 28 X 28=784 -dimensional vectors.\n",
        "network.add(layers.Dense(32, activation='sigmoid', input_shape=(28 * 28, )))\n",
        "network.add(layers.Dense(8, activation='sigmoid'))\n",
        "network.add(layers.Dense(10, activation='softmax'))\n",
        "network.summary()\n",
        "from google.colab import drive\n",
        "drive.mount('/content/drive')\n"
      ],
      "metadata": {
        "colab": {
          "base_uri": "https://localhost:8080/"
        },
        "id": "JABKFwFgb42u",
        "outputId": "dca6cdbe-dc85-4581-b700-b489717a5715"
      },
      "execution_count": 11,
      "outputs": [
        {
          "output_type": "stream",
          "name": "stdout",
          "text": [
            "Model: \"sequential_3\"\n",
            "_________________________________________________________________\n",
            " Layer (type)                Output Shape              Param #   \n",
            "=================================================================\n",
            " dense_9 (Dense)             (None, 32)                25120     \n",
            "                                                                 \n",
            " dense_10 (Dense)            (None, 8)                 264       \n",
            "                                                                 \n",
            " dense_11 (Dense)            (None, 10)                90        \n",
            "                                                                 \n",
            "=================================================================\n",
            "Total params: 25474 (99.51 KB)\n",
            "Trainable params: 25474 (99.51 KB)\n",
            "Non-trainable params: 0 (0.00 Byte)\n",
            "_________________________________________________________________\n",
            "Mounted at /content/drive\n"
          ]
        }
      ]
    },
    {
      "cell_type": "code",
      "source": [],
      "metadata": {
        "id": "IKES_ep_fMQ3"
      },
      "execution_count": null,
      "outputs": []
    },
    {
      "cell_type": "markdown",
      "source": [
        "The compilation step\n",
        "\n"
      ],
      "metadata": {
        "id": "clhldHKubWc1"
      }
    },
    {
      "cell_type": "code",
      "source": [
        "network.compile(optimizer='sgd',\n",
        "                loss='categorical_crossentropy',\n",
        "                metrics=['accuracy'])"
      ],
      "metadata": {
        "id": "YtDffgJ-c2wW"
      },
      "execution_count": 6,
      "outputs": []
    },
    {
      "cell_type": "markdown",
      "source": [
        "\n",
        "Preparing the image data\n",
        "\n"
      ],
      "metadata": {
        "id": "Mbltpng8c-Al"
      }
    },
    {
      "cell_type": "code",
      "source": [
        "train_images = train_images.reshape((60000, 28 * 28))\n",
        "train_images = train_images.astype('float32') / 255.\n",
        "test_images = test_images.reshape((10000, 28 * 28))\n",
        "test_images = test_images.astype('float32') / 255."
      ],
      "metadata": {
        "id": "UkJarjamdERt"
      },
      "execution_count": 7,
      "outputs": []
    },
    {
      "cell_type": "markdown",
      "source": [
        "Preparing the labels"
      ],
      "metadata": {
        "id": "46HKmZ6cdRgu"
      }
    },
    {
      "cell_type": "code",
      "source": [
        "from keras.utils import to_categorical\n",
        "train_labels = to_categorical(train_labels)\n",
        "train_labels\n",
        "test_labels = to_categorical(test_labels)\n",
        "test_labels\n"
      ],
      "metadata": {
        "colab": {
          "base_uri": "https://localhost:8080/"
        },
        "id": "V0Q9UTSWdZBe",
        "outputId": "7afa8b57-0fc1-4c89-ef12-4e63d61c8b74"
      },
      "execution_count": 8,
      "outputs": [
        {
          "output_type": "execute_result",
          "data": {
            "text/plain": [
              "array([[0., 0., 0., ..., 1., 0., 0.],\n",
              "       [0., 0., 1., ..., 0., 0., 0.],\n",
              "       [0., 1., 0., ..., 0., 0., 0.],\n",
              "       ...,\n",
              "       [0., 0., 0., ..., 0., 0., 0.],\n",
              "       [0., 0., 0., ..., 0., 0., 0.],\n",
              "       [0., 0., 0., ..., 0., 0., 0.]], dtype=float32)"
            ]
          },
          "metadata": {},
          "execution_count": 8
        }
      ]
    },
    {
      "cell_type": "markdown",
      "source": [
        "Training and Testing"
      ],
      "metadata": {
        "id": "2P4el-gBdevF"
      }
    },
    {
      "cell_type": "code",
      "source": [
        "network.fit(train_images, train_labels, epochs=160, batch_size=512)"
      ],
      "metadata": {
        "colab": {
          "base_uri": "https://localhost:8080/"
        },
        "id": "2HCoAMqSdkkm",
        "outputId": "3d340544-8b83-463a-d4a1-7db396a1ca3e"
      },
      "execution_count": 9,
      "outputs": [
        {
          "output_type": "stream",
          "name": "stdout",
          "text": [
            "Epoch 1/160\n",
            "118/118 [==============================] - 1s 5ms/step - loss: 2.3403 - accuracy: 0.1017\n",
            "Epoch 2/160\n",
            "118/118 [==============================] - 1s 5ms/step - loss: 2.3164 - accuracy: 0.1090\n",
            "Epoch 3/160\n",
            "118/118 [==============================] - 1s 4ms/step - loss: 2.3020 - accuracy: 0.1192\n",
            "Epoch 4/160\n",
            "118/118 [==============================] - 1s 5ms/step - loss: 2.2922 - accuracy: 0.1407\n",
            "Epoch 5/160\n",
            "118/118 [==============================] - 1s 4ms/step - loss: 2.2845 - accuracy: 0.1525\n",
            "Epoch 6/160\n",
            "118/118 [==============================] - 1s 5ms/step - loss: 2.2778 - accuracy: 0.1355\n",
            "Epoch 7/160\n",
            "118/118 [==============================] - 1s 4ms/step - loss: 2.2714 - accuracy: 0.1378\n",
            "Epoch 8/160\n",
            "118/118 [==============================] - 1s 5ms/step - loss: 2.2650 - accuracy: 0.1704\n",
            "Epoch 9/160\n",
            "118/118 [==============================] - 1s 5ms/step - loss: 2.2584 - accuracy: 0.1927\n",
            "Epoch 10/160\n",
            "118/118 [==============================] - 1s 7ms/step - loss: 2.2514 - accuracy: 0.2031\n",
            "Epoch 11/160\n",
            "118/118 [==============================] - 1s 7ms/step - loss: 2.2439 - accuracy: 0.2110\n",
            "Epoch 12/160\n",
            "118/118 [==============================] - 1s 7ms/step - loss: 2.2358 - accuracy: 0.2148\n",
            "Epoch 13/160\n",
            "118/118 [==============================] - 1s 5ms/step - loss: 2.2270 - accuracy: 0.2224\n",
            "Epoch 14/160\n",
            "118/118 [==============================] - 1s 4ms/step - loss: 2.2175 - accuracy: 0.2252\n",
            "Epoch 15/160\n",
            "118/118 [==============================] - 1s 5ms/step - loss: 2.2073 - accuracy: 0.2323\n",
            "Epoch 16/160\n",
            "118/118 [==============================] - 1s 4ms/step - loss: 2.1962 - accuracy: 0.2375\n",
            "Epoch 17/160\n",
            "118/118 [==============================] - 1s 5ms/step - loss: 2.1843 - accuracy: 0.2502\n",
            "Epoch 18/160\n",
            "118/118 [==============================] - 1s 5ms/step - loss: 2.1714 - accuracy: 0.2571\n",
            "Epoch 19/160\n",
            "118/118 [==============================] - 1s 5ms/step - loss: 2.1577 - accuracy: 0.2673\n",
            "Epoch 20/160\n",
            "118/118 [==============================] - 1s 5ms/step - loss: 2.1431 - accuracy: 0.2791\n",
            "Epoch 21/160\n",
            "118/118 [==============================] - 1s 5ms/step - loss: 2.1276 - accuracy: 0.2882\n",
            "Epoch 22/160\n",
            "118/118 [==============================] - 1s 5ms/step - loss: 2.1112 - accuracy: 0.2994\n",
            "Epoch 23/160\n",
            "118/118 [==============================] - 1s 5ms/step - loss: 2.0941 - accuracy: 0.3133\n",
            "Epoch 24/160\n",
            "118/118 [==============================] - 1s 5ms/step - loss: 2.0762 - accuracy: 0.3232\n",
            "Epoch 25/160\n",
            "118/118 [==============================] - 1s 4ms/step - loss: 2.0578 - accuracy: 0.3382\n",
            "Epoch 26/160\n",
            "118/118 [==============================] - 0s 4ms/step - loss: 2.0388 - accuracy: 0.3446\n",
            "Epoch 27/160\n",
            "118/118 [==============================] - 1s 4ms/step - loss: 2.0194 - accuracy: 0.3617\n",
            "Epoch 28/160\n",
            "118/118 [==============================] - 1s 5ms/step - loss: 1.9997 - accuracy: 0.3701\n",
            "Epoch 29/160\n",
            "118/118 [==============================] - 1s 5ms/step - loss: 1.9798 - accuracy: 0.3858\n",
            "Epoch 30/160\n",
            "118/118 [==============================] - 1s 5ms/step - loss: 1.9598 - accuracy: 0.4027\n",
            "Epoch 31/160\n",
            "118/118 [==============================] - 1s 6ms/step - loss: 1.9398 - accuracy: 0.4118\n",
            "Epoch 32/160\n",
            "118/118 [==============================] - 1s 7ms/step - loss: 1.9198 - accuracy: 0.4264\n",
            "Epoch 33/160\n",
            "118/118 [==============================] - 1s 8ms/step - loss: 1.8998 - accuracy: 0.4350\n",
            "Epoch 34/160\n",
            "118/118 [==============================] - 1s 7ms/step - loss: 1.8800 - accuracy: 0.4487\n",
            "Epoch 35/160\n",
            "118/118 [==============================] - 1s 5ms/step - loss: 1.8602 - accuracy: 0.4584\n",
            "Epoch 36/160\n",
            "118/118 [==============================] - 1s 5ms/step - loss: 1.8407 - accuracy: 0.4685\n",
            "Epoch 37/160\n",
            "118/118 [==============================] - 1s 5ms/step - loss: 1.8212 - accuracy: 0.4805\n",
            "Epoch 38/160\n",
            "118/118 [==============================] - 1s 5ms/step - loss: 1.8020 - accuracy: 0.4879\n",
            "Epoch 39/160\n",
            "118/118 [==============================] - 1s 5ms/step - loss: 1.7828 - accuracy: 0.5003\n",
            "Epoch 40/160\n",
            "118/118 [==============================] - 1s 5ms/step - loss: 1.7639 - accuracy: 0.5121\n",
            "Epoch 41/160\n",
            "118/118 [==============================] - 1s 5ms/step - loss: 1.7450 - accuracy: 0.5188\n",
            "Epoch 42/160\n",
            "118/118 [==============================] - 1s 5ms/step - loss: 1.7263 - accuracy: 0.5267\n",
            "Epoch 43/160\n",
            "118/118 [==============================] - 1s 5ms/step - loss: 1.7077 - accuracy: 0.5343\n",
            "Epoch 44/160\n",
            "118/118 [==============================] - 1s 5ms/step - loss: 1.6893 - accuracy: 0.5435\n",
            "Epoch 45/160\n",
            "118/118 [==============================] - 1s 5ms/step - loss: 1.6710 - accuracy: 0.5512\n",
            "Epoch 46/160\n",
            "118/118 [==============================] - 1s 5ms/step - loss: 1.6529 - accuracy: 0.5586\n",
            "Epoch 47/160\n",
            "118/118 [==============================] - 1s 5ms/step - loss: 1.6348 - accuracy: 0.5655\n",
            "Epoch 48/160\n",
            "118/118 [==============================] - 1s 5ms/step - loss: 1.6170 - accuracy: 0.5707\n",
            "Epoch 49/160\n",
            "118/118 [==============================] - 1s 5ms/step - loss: 1.5993 - accuracy: 0.5769\n",
            "Epoch 50/160\n",
            "118/118 [==============================] - 1s 5ms/step - loss: 1.5818 - accuracy: 0.5833\n",
            "Epoch 51/160\n",
            "118/118 [==============================] - 1s 5ms/step - loss: 1.5644 - accuracy: 0.5878\n",
            "Epoch 52/160\n",
            "118/118 [==============================] - 1s 8ms/step - loss: 1.5472 - accuracy: 0.5919\n",
            "Epoch 53/160\n",
            "118/118 [==============================] - 1s 7ms/step - loss: 1.5302 - accuracy: 0.5959\n",
            "Epoch 54/160\n",
            "118/118 [==============================] - 1s 7ms/step - loss: 1.5134 - accuracy: 0.6011\n",
            "Epoch 55/160\n",
            "118/118 [==============================] - 1s 5ms/step - loss: 1.4968 - accuracy: 0.6047\n",
            "Epoch 56/160\n",
            "118/118 [==============================] - 1s 5ms/step - loss: 1.4805 - accuracy: 0.6080\n",
            "Epoch 57/160\n",
            "118/118 [==============================] - 1s 5ms/step - loss: 1.4643 - accuracy: 0.6103\n",
            "Epoch 58/160\n",
            "118/118 [==============================] - 1s 5ms/step - loss: 1.4484 - accuracy: 0.6138\n",
            "Epoch 59/160\n",
            "118/118 [==============================] - 1s 5ms/step - loss: 1.4327 - accuracy: 0.6178\n",
            "Epoch 60/160\n",
            "118/118 [==============================] - 1s 4ms/step - loss: 1.4172 - accuracy: 0.6192\n",
            "Epoch 61/160\n",
            "118/118 [==============================] - 1s 5ms/step - loss: 1.4020 - accuracy: 0.6214\n",
            "Epoch 62/160\n",
            "118/118 [==============================] - 1s 4ms/step - loss: 1.3870 - accuracy: 0.6255\n",
            "Epoch 63/160\n",
            "118/118 [==============================] - 1s 5ms/step - loss: 1.3723 - accuracy: 0.6273\n",
            "Epoch 64/160\n",
            "118/118 [==============================] - 1s 5ms/step - loss: 1.3579 - accuracy: 0.6299\n",
            "Epoch 65/160\n",
            "118/118 [==============================] - 1s 5ms/step - loss: 1.3437 - accuracy: 0.6329\n",
            "Epoch 66/160\n",
            "118/118 [==============================] - 1s 5ms/step - loss: 1.3297 - accuracy: 0.6360\n",
            "Epoch 67/160\n",
            "118/118 [==============================] - 1s 7ms/step - loss: 1.3160 - accuracy: 0.6379\n",
            "Epoch 68/160\n",
            "118/118 [==============================] - 1s 6ms/step - loss: 1.3026 - accuracy: 0.6407\n",
            "Epoch 69/160\n",
            "118/118 [==============================] - 1s 6ms/step - loss: 1.2895 - accuracy: 0.6418\n",
            "Epoch 70/160\n",
            "118/118 [==============================] - 1s 7ms/step - loss: 1.2766 - accuracy: 0.6448\n",
            "Epoch 71/160\n",
            "118/118 [==============================] - 1s 6ms/step - loss: 1.2640 - accuracy: 0.6464\n",
            "Epoch 72/160\n",
            "118/118 [==============================] - 1s 7ms/step - loss: 1.2516 - accuracy: 0.6508\n",
            "Epoch 73/160\n",
            "118/118 [==============================] - 1s 7ms/step - loss: 1.2395 - accuracy: 0.6531\n",
            "Epoch 74/160\n",
            "118/118 [==============================] - 1s 7ms/step - loss: 1.2277 - accuracy: 0.6569\n",
            "Epoch 75/160\n",
            "118/118 [==============================] - 1s 5ms/step - loss: 1.2161 - accuracy: 0.6584\n",
            "Epoch 76/160\n",
            "118/118 [==============================] - 1s 5ms/step - loss: 1.2047 - accuracy: 0.6609\n",
            "Epoch 77/160\n",
            "118/118 [==============================] - 1s 5ms/step - loss: 1.1936 - accuracy: 0.6637\n",
            "Epoch 78/160\n",
            "118/118 [==============================] - 1s 5ms/step - loss: 1.1827 - accuracy: 0.6664\n",
            "Epoch 79/160\n",
            "118/118 [==============================] - 1s 5ms/step - loss: 1.1721 - accuracy: 0.6703\n",
            "Epoch 80/160\n",
            "118/118 [==============================] - 1s 5ms/step - loss: 1.1617 - accuracy: 0.6738\n",
            "Epoch 81/160\n",
            "118/118 [==============================] - 1s 5ms/step - loss: 1.1515 - accuracy: 0.6757\n",
            "Epoch 82/160\n",
            "118/118 [==============================] - 1s 5ms/step - loss: 1.1415 - accuracy: 0.6786\n",
            "Epoch 83/160\n",
            "118/118 [==============================] - 1s 8ms/step - loss: 1.1317 - accuracy: 0.6815\n",
            "Epoch 84/160\n",
            "118/118 [==============================] - 1s 7ms/step - loss: 1.1221 - accuracy: 0.6849\n",
            "Epoch 85/160\n",
            "118/118 [==============================] - 1s 7ms/step - loss: 1.1127 - accuracy: 0.6869\n",
            "Epoch 86/160\n",
            "118/118 [==============================] - 1s 5ms/step - loss: 1.1035 - accuracy: 0.6906\n",
            "Epoch 87/160\n",
            "118/118 [==============================] - 1s 5ms/step - loss: 1.0945 - accuracy: 0.6938\n",
            "Epoch 88/160\n",
            "118/118 [==============================] - 1s 5ms/step - loss: 1.0856 - accuracy: 0.6969\n",
            "Epoch 89/160\n",
            "118/118 [==============================] - 1s 5ms/step - loss: 1.0769 - accuracy: 0.7001\n",
            "Epoch 90/160\n",
            "118/118 [==============================] - 1s 5ms/step - loss: 1.0684 - accuracy: 0.7032\n",
            "Epoch 91/160\n",
            "118/118 [==============================] - 1s 7ms/step - loss: 1.0600 - accuracy: 0.7059\n",
            "Epoch 92/160\n",
            "118/118 [==============================] - 1s 7ms/step - loss: 1.0518 - accuracy: 0.7085\n",
            "Epoch 93/160\n",
            "118/118 [==============================] - 1s 7ms/step - loss: 1.0437 - accuracy: 0.7128\n",
            "Epoch 94/160\n",
            "118/118 [==============================] - 1s 5ms/step - loss: 1.0358 - accuracy: 0.7164\n",
            "Epoch 95/160\n",
            "118/118 [==============================] - 1s 5ms/step - loss: 1.0280 - accuracy: 0.7188\n",
            "Epoch 96/160\n",
            "118/118 [==============================] - 1s 5ms/step - loss: 1.0203 - accuracy: 0.7213\n",
            "Epoch 97/160\n",
            "118/118 [==============================] - 1s 5ms/step - loss: 1.0128 - accuracy: 0.7248\n",
            "Epoch 98/160\n",
            "118/118 [==============================] - 1s 5ms/step - loss: 1.0053 - accuracy: 0.7276\n",
            "Epoch 99/160\n",
            "118/118 [==============================] - 1s 5ms/step - loss: 0.9980 - accuracy: 0.7304\n",
            "Epoch 100/160\n",
            "118/118 [==============================] - 1s 5ms/step - loss: 0.9908 - accuracy: 0.7332\n",
            "Epoch 101/160\n",
            "118/118 [==============================] - 1s 5ms/step - loss: 0.9836 - accuracy: 0.7360\n",
            "Epoch 102/160\n",
            "118/118 [==============================] - 1s 5ms/step - loss: 0.9766 - accuracy: 0.7388\n",
            "Epoch 103/160\n",
            "118/118 [==============================] - 1s 5ms/step - loss: 0.9697 - accuracy: 0.7426\n",
            "Epoch 104/160\n",
            "118/118 [==============================] - 1s 5ms/step - loss: 0.9629 - accuracy: 0.7454\n",
            "Epoch 105/160\n",
            "118/118 [==============================] - 1s 5ms/step - loss: 0.9562 - accuracy: 0.7470\n",
            "Epoch 106/160\n",
            "118/118 [==============================] - 1s 5ms/step - loss: 0.9495 - accuracy: 0.7500\n",
            "Epoch 107/160\n",
            "118/118 [==============================] - 1s 5ms/step - loss: 0.9429 - accuracy: 0.7527\n",
            "Epoch 108/160\n",
            "118/118 [==============================] - 1s 5ms/step - loss: 0.9365 - accuracy: 0.7555\n",
            "Epoch 109/160\n",
            "118/118 [==============================] - 1s 5ms/step - loss: 0.9300 - accuracy: 0.7578\n",
            "Epoch 110/160\n",
            "118/118 [==============================] - 1s 5ms/step - loss: 0.9237 - accuracy: 0.7606\n",
            "Epoch 111/160\n",
            "118/118 [==============================] - 1s 6ms/step - loss: 0.9174 - accuracy: 0.7632\n",
            "Epoch 112/160\n",
            "118/118 [==============================] - 1s 7ms/step - loss: 0.9113 - accuracy: 0.7658\n",
            "Epoch 113/160\n",
            "118/118 [==============================] - 1s 7ms/step - loss: 0.9051 - accuracy: 0.7688\n",
            "Epoch 114/160\n",
            "118/118 [==============================] - 1s 7ms/step - loss: 0.8991 - accuracy: 0.7708\n",
            "Epoch 115/160\n",
            "118/118 [==============================] - 1s 5ms/step - loss: 0.8931 - accuracy: 0.7738\n",
            "Epoch 116/160\n",
            "118/118 [==============================] - 1s 5ms/step - loss: 0.8872 - accuracy: 0.7760\n",
            "Epoch 117/160\n",
            "118/118 [==============================] - 1s 5ms/step - loss: 0.8813 - accuracy: 0.7782\n",
            "Epoch 118/160\n",
            "118/118 [==============================] - 1s 5ms/step - loss: 0.8755 - accuracy: 0.7805\n",
            "Epoch 119/160\n",
            "118/118 [==============================] - 1s 5ms/step - loss: 0.8698 - accuracy: 0.7825\n",
            "Epoch 120/160\n",
            "118/118 [==============================] - 1s 5ms/step - loss: 0.8641 - accuracy: 0.7842\n",
            "Epoch 121/160\n",
            "118/118 [==============================] - 1s 5ms/step - loss: 0.8585 - accuracy: 0.7857\n",
            "Epoch 122/160\n",
            "118/118 [==============================] - 1s 5ms/step - loss: 0.8529 - accuracy: 0.7880\n",
            "Epoch 123/160\n",
            "118/118 [==============================] - 1s 5ms/step - loss: 0.8474 - accuracy: 0.7895\n",
            "Epoch 124/160\n",
            "118/118 [==============================] - 1s 5ms/step - loss: 0.8420 - accuracy: 0.7915\n",
            "Epoch 125/160\n",
            "118/118 [==============================] - 1s 5ms/step - loss: 0.8366 - accuracy: 0.7932\n",
            "Epoch 126/160\n",
            "118/118 [==============================] - 1s 5ms/step - loss: 0.8312 - accuracy: 0.7947\n",
            "Epoch 127/160\n",
            "118/118 [==============================] - 1s 5ms/step - loss: 0.8259 - accuracy: 0.7967\n",
            "Epoch 128/160\n",
            "118/118 [==============================] - 1s 5ms/step - loss: 0.8207 - accuracy: 0.7980\n",
            "Epoch 129/160\n",
            "118/118 [==============================] - 1s 5ms/step - loss: 0.8155 - accuracy: 0.8002\n",
            "Epoch 130/160\n",
            "118/118 [==============================] - 1s 5ms/step - loss: 0.8103 - accuracy: 0.8015\n",
            "Epoch 131/160\n",
            "118/118 [==============================] - 1s 5ms/step - loss: 0.8052 - accuracy: 0.8027\n",
            "Epoch 132/160\n",
            "118/118 [==============================] - 1s 7ms/step - loss: 0.8002 - accuracy: 0.8041\n",
            "Epoch 133/160\n",
            "118/118 [==============================] - 1s 7ms/step - loss: 0.7952 - accuracy: 0.8061\n",
            "Epoch 134/160\n",
            "118/118 [==============================] - 1s 7ms/step - loss: 0.7902 - accuracy: 0.8079\n",
            "Epoch 135/160\n",
            "118/118 [==============================] - 1s 6ms/step - loss: 0.7853 - accuracy: 0.8096\n",
            "Epoch 136/160\n",
            "118/118 [==============================] - 1s 5ms/step - loss: 0.7805 - accuracy: 0.8108\n",
            "Epoch 137/160\n",
            "118/118 [==============================] - 1s 5ms/step - loss: 0.7757 - accuracy: 0.8124\n",
            "Epoch 138/160\n",
            "118/118 [==============================] - 1s 5ms/step - loss: 0.7709 - accuracy: 0.8136\n",
            "Epoch 139/160\n",
            "118/118 [==============================] - 1s 5ms/step - loss: 0.7662 - accuracy: 0.8150\n",
            "Epoch 140/160\n",
            "118/118 [==============================] - 1s 5ms/step - loss: 0.7616 - accuracy: 0.8164\n",
            "Epoch 141/160\n",
            "118/118 [==============================] - 1s 5ms/step - loss: 0.7569 - accuracy: 0.8178\n",
            "Epoch 142/160\n",
            "118/118 [==============================] - 1s 5ms/step - loss: 0.7524 - accuracy: 0.8191\n",
            "Epoch 143/160\n",
            "118/118 [==============================] - 1s 5ms/step - loss: 0.7479 - accuracy: 0.8202\n",
            "Epoch 144/160\n",
            "118/118 [==============================] - 1s 5ms/step - loss: 0.7434 - accuracy: 0.8214\n",
            "Epoch 145/160\n",
            "118/118 [==============================] - 1s 5ms/step - loss: 0.7389 - accuracy: 0.8224\n",
            "Epoch 146/160\n",
            "118/118 [==============================] - 1s 5ms/step - loss: 0.7346 - accuracy: 0.8238\n",
            "Epoch 147/160\n",
            "118/118 [==============================] - 1s 5ms/step - loss: 0.7302 - accuracy: 0.8249\n",
            "Epoch 148/160\n",
            "118/118 [==============================] - 1s 5ms/step - loss: 0.7259 - accuracy: 0.8262\n",
            "Epoch 149/160\n",
            "118/118 [==============================] - 1s 5ms/step - loss: 0.7217 - accuracy: 0.8273\n",
            "Epoch 150/160\n",
            "118/118 [==============================] - 1s 5ms/step - loss: 0.7175 - accuracy: 0.8284\n",
            "Epoch 151/160\n",
            "118/118 [==============================] - 1s 5ms/step - loss: 0.7133 - accuracy: 0.8292\n",
            "Epoch 152/160\n",
            "118/118 [==============================] - 1s 5ms/step - loss: 0.7092 - accuracy: 0.8304\n",
            "Epoch 153/160\n",
            "118/118 [==============================] - 1s 7ms/step - loss: 0.7051 - accuracy: 0.8315\n",
            "Epoch 154/160\n",
            "118/118 [==============================] - 1s 7ms/step - loss: 0.7011 - accuracy: 0.8322\n",
            "Epoch 155/160\n",
            "118/118 [==============================] - 1s 7ms/step - loss: 0.6971 - accuracy: 0.8333\n",
            "Epoch 156/160\n",
            "118/118 [==============================] - 1s 6ms/step - loss: 0.6932 - accuracy: 0.8345\n",
            "Epoch 157/160\n",
            "118/118 [==============================] - 1s 5ms/step - loss: 0.6893 - accuracy: 0.8354\n",
            "Epoch 158/160\n",
            "118/118 [==============================] - 1s 5ms/step - loss: 0.6854 - accuracy: 0.8363\n",
            "Epoch 159/160\n",
            "118/118 [==============================] - 1s 5ms/step - loss: 0.6816 - accuracy: 0.8374\n",
            "Epoch 160/160\n",
            "118/118 [==============================] - 1s 5ms/step - loss: 0.6778 - accuracy: 0.8384\n"
          ]
        },
        {
          "output_type": "execute_result",
          "data": {
            "text/plain": [
              "<keras.src.callbacks.History at 0x7c40a01d6a70>"
            ]
          },
          "metadata": {},
          "execution_count": 9
        }
      ]
    },
    {
      "cell_type": "code",
      "source": [
        "test_loss, test_acc = network.evaluate(test_images, test_labels)\n",
        "print('Test Accuracy: {:.5f} '.format(test_acc))\n",
        "test_acc"
      ],
      "metadata": {
        "id": "lxgwEbxmozey"
      },
      "execution_count": null,
      "outputs": []
    },
    {
      "cell_type": "code",
      "source": [],
      "metadata": {
        "id": "URbXmrrOg2iW"
      },
      "execution_count": null,
      "outputs": []
    },
    {
      "cell_type": "code",
      "source": [
        "from keras.utils import plot_model\n",
        "plot_model(network, to_file='model.png')\n",
        "import matplotlib.pyplot as plt\n",
        "history =network.fit(train_images, train_labels, validation_split=0.33,epochs=5, batch_size=512)\n",
        "history_dict = history.history\n",
        "print(history_dict.keys())\n",
        "plt.plot(history.history['accuracy'])\n",
        "plt.plot(history.history['val_accuracy'])\n",
        "plt.title('Model accuracy')\n",
        "plt.ylabel('Accuracy')\n",
        "plt.xlabel('Epoch')\n",
        "plt.legend(['Train', 'Test'], loc='upper left')\n",
        "plt.show()\n",
        "\n",
        "\n",
        "# Plot training & validation loss values\n",
        "plt.plot(history.history['loss'])\n",
        "plt.plot(history.history['val_loss'])\n",
        "plt.title('Model loss')\n",
        "plt.ylabel('Loss')\n",
        "plt.xlabel('Epoch')\n",
        "plt.legend(['Train', 'Test'], loc='upper left')\n",
        "plt.show()\n"
      ],
      "metadata": {
        "id": "tpOebR1Yfxxm"
      },
      "execution_count": null,
      "outputs": []
    },
    {
      "cell_type": "markdown",
      "source": [
        "Epoch 1/5\n",
        "79/79 [==============================] - 1s 14ms/step - loss: 0.6502 - accuracy: 0.8433 - val_loss: 0.6347 - val_accuracy: 0.8493\n",
        "Epoch 2/5\n",
        "79/79 [==============================] - 1s 10ms/step - loss: 0.6481 - accuracy: 0.8439 - val_loss: 0.6327 - val_accuracy: 0.8499\n",
        "Epoch 3/5\n",
        "79/79 [==============================] - 1s 7ms/step - loss: 0.6460 - accuracy: 0.8445 - val_loss: 0.6308 - val_accuracy: 0.8501\n",
        "Epoch 4/5\n",
        "79/79 [==============================] - 1s 7ms/step - loss: 0.6440 - accuracy: 0.8451 - val_loss: 0.6289 - val_accuracy: 0.8506\n",
        "Epoch 5/5\n",
        "79/79 [==============================] - 1s 7ms/step - loss: 0.6420 - accuracy: 0.8457 - val_loss: 0.6270 - val_accuracy: 0.8511\n",
        "dict_keys(['loss', 'accuracy', 'val_loss', 'val_accuracy'])\n",
        "\n"
      ],
      "metadata": {
        "id": "VboKZsP4gBNy"
      }
    },
    {
      "cell_type": "markdown",
      "source": [],
      "metadata": {
        "id": "C7KYM1legC7O"
      }
    }
  ]
}